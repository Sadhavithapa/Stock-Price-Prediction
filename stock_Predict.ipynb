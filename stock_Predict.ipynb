{
  "nbformat": 4,
  "nbformat_minor": 0,
  "metadata": {
    "colab": {
      "name": "Untitled1.ipynb",
      "provenance": [],
      "collapsed_sections": []
    },
    "kernelspec": {
      "name": "python3",
      "display_name": "Python 3"
    },
    "language_info": {
      "name": "python"
    }
  },
  "cells": [
    {
      "cell_type": "markdown",
      "metadata": {
        "id": "Rp6UcHVsbaG7"
      },
      "source": [
        "STOCK PRICE PREDICTION using LSTM (Apple Stocks)"
      ]
    },
    {
      "cell_type": "code",
      "metadata": {
        "id": "_6kgv61LFqb-"
      },
      "source": [
        "import numpy as np\n",
        "import matplotlib.pyplot as plt\n",
        "import pandas as pd\n",
        "from sklearn.preprocessing import MinMaxScaler"
      ],
      "execution_count": 60,
      "outputs": []
    },
    {
      "cell_type": "code",
      "metadata": {
        "colab": {
          "base_uri": "https://localhost:8080/",
          "height": 203
        },
        "id": "-G-FmAx1GPjO",
        "outputId": "2efc0344-d9f7-4d88-956c-350b2aa5497e"
      },
      "source": [
        "data = pd.read_csv('APPL.csv', date_parser = True)\n",
        "data.tail()"
      ],
      "execution_count": 61,
      "outputs": [
        {
          "output_type": "execute_result",
          "data": {
            "text/html": [
              "<div>\n",
              "<style scoped>\n",
              "    .dataframe tbody tr th:only-of-type {\n",
              "        vertical-align: middle;\n",
              "    }\n",
              "\n",
              "    .dataframe tbody tr th {\n",
              "        vertical-align: top;\n",
              "    }\n",
              "\n",
              "    .dataframe thead th {\n",
              "        text-align: right;\n",
              "    }\n",
              "</style>\n",
              "<table border=\"1\" class=\"dataframe\">\n",
              "  <thead>\n",
              "    <tr style=\"text-align: right;\">\n",
              "      <th></th>\n",
              "      <th>date</th>\n",
              "      <th>close</th>\n",
              "      <th>high</th>\n",
              "      <th>low</th>\n",
              "      <th>open</th>\n",
              "      <th>volume</th>\n",
              "      <th>adjClose</th>\n",
              "    </tr>\n",
              "  </thead>\n",
              "  <tbody>\n",
              "    <tr>\n",
              "      <th>1252</th>\n",
              "      <td>2021-07-29 00:00:00+00:00</td>\n",
              "      <td>145.64</td>\n",
              "      <td>146.550</td>\n",
              "      <td>144.58</td>\n",
              "      <td>144.685</td>\n",
              "      <td>54323047</td>\n",
              "      <td>145.64</td>\n",
              "    </tr>\n",
              "    <tr>\n",
              "      <th>1253</th>\n",
              "      <td>2021-07-30 00:00:00+00:00</td>\n",
              "      <td>145.86</td>\n",
              "      <td>146.330</td>\n",
              "      <td>144.11</td>\n",
              "      <td>144.380</td>\n",
              "      <td>70440626</td>\n",
              "      <td>145.86</td>\n",
              "    </tr>\n",
              "    <tr>\n",
              "      <th>1254</th>\n",
              "      <td>2021-08-02 00:00:00+00:00</td>\n",
              "      <td>145.52</td>\n",
              "      <td>146.950</td>\n",
              "      <td>145.25</td>\n",
              "      <td>146.360</td>\n",
              "      <td>62879961</td>\n",
              "      <td>145.52</td>\n",
              "    </tr>\n",
              "    <tr>\n",
              "      <th>1255</th>\n",
              "      <td>2021-08-03 00:00:00+00:00</td>\n",
              "      <td>147.36</td>\n",
              "      <td>148.045</td>\n",
              "      <td>145.18</td>\n",
              "      <td>145.810</td>\n",
              "      <td>64786618</td>\n",
              "      <td>147.36</td>\n",
              "    </tr>\n",
              "    <tr>\n",
              "      <th>1256</th>\n",
              "      <td>2021-08-04 00:00:00+00:00</td>\n",
              "      <td>146.95</td>\n",
              "      <td>147.790</td>\n",
              "      <td>146.28</td>\n",
              "      <td>147.270</td>\n",
              "      <td>56368271</td>\n",
              "      <td>146.95</td>\n",
              "    </tr>\n",
              "  </tbody>\n",
              "</table>\n",
              "</div>"
            ],
            "text/plain": [
              "                           date   close     high  ...     open    volume  adjClose\n",
              "1252  2021-07-29 00:00:00+00:00  145.64  146.550  ...  144.685  54323047    145.64\n",
              "1253  2021-07-30 00:00:00+00:00  145.86  146.330  ...  144.380  70440626    145.86\n",
              "1254  2021-08-02 00:00:00+00:00  145.52  146.950  ...  146.360  62879961    145.52\n",
              "1255  2021-08-03 00:00:00+00:00  147.36  148.045  ...  145.810  64786618    147.36\n",
              "1256  2021-08-04 00:00:00+00:00  146.95  147.790  ...  147.270  56368271    146.95\n",
              "\n",
              "[5 rows x 7 columns]"
            ]
          },
          "metadata": {
            "tags": []
          },
          "execution_count": 61
        }
      ]
    },
    {
      "cell_type": "code",
      "metadata": {
        "colab": {
          "base_uri": "https://localhost:8080/",
          "height": 203
        },
        "id": "k8QBnrOOGUGh",
        "outputId": "f2b6dc19-bd52-408d-e092-6c937029e6bb"
      },
      "source": [
        "data.head()"
      ],
      "execution_count": 62,
      "outputs": [
        {
          "output_type": "execute_result",
          "data": {
            "text/html": [
              "<div>\n",
              "<style scoped>\n",
              "    .dataframe tbody tr th:only-of-type {\n",
              "        vertical-align: middle;\n",
              "    }\n",
              "\n",
              "    .dataframe tbody tr th {\n",
              "        vertical-align: top;\n",
              "    }\n",
              "\n",
              "    .dataframe thead th {\n",
              "        text-align: right;\n",
              "    }\n",
              "</style>\n",
              "<table border=\"1\" class=\"dataframe\">\n",
              "  <thead>\n",
              "    <tr style=\"text-align: right;\">\n",
              "      <th></th>\n",
              "      <th>date</th>\n",
              "      <th>close</th>\n",
              "      <th>high</th>\n",
              "      <th>low</th>\n",
              "      <th>open</th>\n",
              "      <th>volume</th>\n",
              "      <th>adjClose</th>\n",
              "    </tr>\n",
              "  </thead>\n",
              "  <tbody>\n",
              "    <tr>\n",
              "      <th>0</th>\n",
              "      <td>2016-08-08 00:00:00+00:00</td>\n",
              "      <td>108.37</td>\n",
              "      <td>108.37</td>\n",
              "      <td>107.16</td>\n",
              "      <td>107.52</td>\n",
              "      <td>28037220</td>\n",
              "      <td>25.442098</td>\n",
              "    </tr>\n",
              "    <tr>\n",
              "      <th>1</th>\n",
              "      <td>2016-08-09 00:00:00+00:00</td>\n",
              "      <td>108.81</td>\n",
              "      <td>108.94</td>\n",
              "      <td>108.01</td>\n",
              "      <td>108.23</td>\n",
              "      <td>26315204</td>\n",
              "      <td>25.545397</td>\n",
              "    </tr>\n",
              "    <tr>\n",
              "      <th>2</th>\n",
              "      <td>2016-08-10 00:00:00+00:00</td>\n",
              "      <td>108.00</td>\n",
              "      <td>108.90</td>\n",
              "      <td>107.76</td>\n",
              "      <td>108.71</td>\n",
              "      <td>24008505</td>\n",
              "      <td>25.355233</td>\n",
              "    </tr>\n",
              "    <tr>\n",
              "      <th>3</th>\n",
              "      <td>2016-08-11 00:00:00+00:00</td>\n",
              "      <td>107.93</td>\n",
              "      <td>108.93</td>\n",
              "      <td>107.85</td>\n",
              "      <td>108.52</td>\n",
              "      <td>27484506</td>\n",
              "      <td>25.338799</td>\n",
              "    </tr>\n",
              "    <tr>\n",
              "      <th>4</th>\n",
              "      <td>2016-08-12 00:00:00+00:00</td>\n",
              "      <td>108.18</td>\n",
              "      <td>108.44</td>\n",
              "      <td>107.78</td>\n",
              "      <td>107.78</td>\n",
              "      <td>18660434</td>\n",
              "      <td>25.397492</td>\n",
              "    </tr>\n",
              "  </tbody>\n",
              "</table>\n",
              "</div>"
            ],
            "text/plain": [
              "                        date   close    high  ...    open    volume   adjClose\n",
              "0  2016-08-08 00:00:00+00:00  108.37  108.37  ...  107.52  28037220  25.442098\n",
              "1  2016-08-09 00:00:00+00:00  108.81  108.94  ...  108.23  26315204  25.545397\n",
              "2  2016-08-10 00:00:00+00:00  108.00  108.90  ...  108.71  24008505  25.355233\n",
              "3  2016-08-11 00:00:00+00:00  107.93  108.93  ...  108.52  27484506  25.338799\n",
              "4  2016-08-12 00:00:00+00:00  108.18  108.44  ...  107.78  18660434  25.397492\n",
              "\n",
              "[5 rows x 7 columns]"
            ]
          },
          "metadata": {
            "tags": []
          },
          "execution_count": 62
        }
      ]
    },
    {
      "cell_type": "code",
      "metadata": {
        "id": "fGKR5JMOGwib"
      },
      "source": [
        "data_training = data[data['date']<'2020-02-08'].copy()\n",
        "data_test = data[data['date']>='2020-02-08'].copy()"
      ],
      "execution_count": 63,
      "outputs": []
    },
    {
      "cell_type": "code",
      "metadata": {
        "id": "gGaZ1NlqHxb1"
      },
      "source": [
        "data_training = data_training.drop(['date', 'adjClose'], axis = 1)\n",
        "data_train = data_training"
      ],
      "execution_count": 64,
      "outputs": []
    },
    {
      "cell_type": "code",
      "metadata": {
        "colab": {
          "base_uri": "https://localhost:8080/",
          "height": 417
        },
        "id": "zJnGUih_ZNAt",
        "outputId": "4b0ef341-d30e-4a55-8853-90a89efaec96"
      },
      "source": [
        "data_train"
      ],
      "execution_count": 65,
      "outputs": [
        {
          "output_type": "execute_result",
          "data": {
            "text/html": [
              "<div>\n",
              "<style scoped>\n",
              "    .dataframe tbody tr th:only-of-type {\n",
              "        vertical-align: middle;\n",
              "    }\n",
              "\n",
              "    .dataframe tbody tr th {\n",
              "        vertical-align: top;\n",
              "    }\n",
              "\n",
              "    .dataframe thead th {\n",
              "        text-align: right;\n",
              "    }\n",
              "</style>\n",
              "<table border=\"1\" class=\"dataframe\">\n",
              "  <thead>\n",
              "    <tr style=\"text-align: right;\">\n",
              "      <th></th>\n",
              "      <th>close</th>\n",
              "      <th>high</th>\n",
              "      <th>low</th>\n",
              "      <th>open</th>\n",
              "      <th>volume</th>\n",
              "    </tr>\n",
              "  </thead>\n",
              "  <tbody>\n",
              "    <tr>\n",
              "      <th>0</th>\n",
              "      <td>108.37</td>\n",
              "      <td>108.37</td>\n",
              "      <td>107.16</td>\n",
              "      <td>107.52</td>\n",
              "      <td>28037220</td>\n",
              "    </tr>\n",
              "    <tr>\n",
              "      <th>1</th>\n",
              "      <td>108.81</td>\n",
              "      <td>108.94</td>\n",
              "      <td>108.01</td>\n",
              "      <td>108.23</td>\n",
              "      <td>26315204</td>\n",
              "    </tr>\n",
              "    <tr>\n",
              "      <th>2</th>\n",
              "      <td>108.00</td>\n",
              "      <td>108.90</td>\n",
              "      <td>107.76</td>\n",
              "      <td>108.71</td>\n",
              "      <td>24008505</td>\n",
              "    </tr>\n",
              "    <tr>\n",
              "      <th>3</th>\n",
              "      <td>107.93</td>\n",
              "      <td>108.93</td>\n",
              "      <td>107.85</td>\n",
              "      <td>108.52</td>\n",
              "      <td>27484506</td>\n",
              "    </tr>\n",
              "    <tr>\n",
              "      <th>4</th>\n",
              "      <td>108.18</td>\n",
              "      <td>108.44</td>\n",
              "      <td>107.78</td>\n",
              "      <td>107.78</td>\n",
              "      <td>18660434</td>\n",
              "    </tr>\n",
              "    <tr>\n",
              "      <th>...</th>\n",
              "      <td>...</td>\n",
              "      <td>...</td>\n",
              "      <td>...</td>\n",
              "      <td>...</td>\n",
              "      <td>...</td>\n",
              "    </tr>\n",
              "    <tr>\n",
              "      <th>877</th>\n",
              "      <td>308.66</td>\n",
              "      <td>313.49</td>\n",
              "      <td>302.22</td>\n",
              "      <td>304.30</td>\n",
              "      <td>43496401</td>\n",
              "    </tr>\n",
              "    <tr>\n",
              "      <th>878</th>\n",
              "      <td>318.85</td>\n",
              "      <td>319.64</td>\n",
              "      <td>313.63</td>\n",
              "      <td>315.31</td>\n",
              "      <td>34154134</td>\n",
              "    </tr>\n",
              "    <tr>\n",
              "      <th>879</th>\n",
              "      <td>321.45</td>\n",
              "      <td>324.76</td>\n",
              "      <td>318.95</td>\n",
              "      <td>323.52</td>\n",
              "      <td>29706718</td>\n",
              "    </tr>\n",
              "    <tr>\n",
              "      <th>880</th>\n",
              "      <td>325.21</td>\n",
              "      <td>325.22</td>\n",
              "      <td>320.26</td>\n",
              "      <td>322.57</td>\n",
              "      <td>26356385</td>\n",
              "    </tr>\n",
              "    <tr>\n",
              "      <th>881</th>\n",
              "      <td>320.03</td>\n",
              "      <td>323.40</td>\n",
              "      <td>318.00</td>\n",
              "      <td>322.37</td>\n",
              "      <td>29421012</td>\n",
              "    </tr>\n",
              "  </tbody>\n",
              "</table>\n",
              "<p>882 rows × 5 columns</p>\n",
              "</div>"
            ],
            "text/plain": [
              "      close    high     low    open    volume\n",
              "0    108.37  108.37  107.16  107.52  28037220\n",
              "1    108.81  108.94  108.01  108.23  26315204\n",
              "2    108.00  108.90  107.76  108.71  24008505\n",
              "3    107.93  108.93  107.85  108.52  27484506\n",
              "4    108.18  108.44  107.78  107.78  18660434\n",
              "..      ...     ...     ...     ...       ...\n",
              "877  308.66  313.49  302.22  304.30  43496401\n",
              "878  318.85  319.64  313.63  315.31  34154134\n",
              "879  321.45  324.76  318.95  323.52  29706718\n",
              "880  325.21  325.22  320.26  322.57  26356385\n",
              "881  320.03  323.40  318.00  322.37  29421012\n",
              "\n",
              "[882 rows x 5 columns]"
            ]
          },
          "metadata": {
            "tags": []
          },
          "execution_count": 65
        }
      ]
    },
    {
      "cell_type": "code",
      "metadata": {
        "colab": {
          "base_uri": "https://localhost:8080/",
          "height": 203
        },
        "id": "YMa5mf-CH6Tw",
        "outputId": "f5293015-226b-413e-c69d-9502f0048980"
      },
      "source": [
        "data_training.head()"
      ],
      "execution_count": 66,
      "outputs": [
        {
          "output_type": "execute_result",
          "data": {
            "text/html": [
              "<div>\n",
              "<style scoped>\n",
              "    .dataframe tbody tr th:only-of-type {\n",
              "        vertical-align: middle;\n",
              "    }\n",
              "\n",
              "    .dataframe tbody tr th {\n",
              "        vertical-align: top;\n",
              "    }\n",
              "\n",
              "    .dataframe thead th {\n",
              "        text-align: right;\n",
              "    }\n",
              "</style>\n",
              "<table border=\"1\" class=\"dataframe\">\n",
              "  <thead>\n",
              "    <tr style=\"text-align: right;\">\n",
              "      <th></th>\n",
              "      <th>close</th>\n",
              "      <th>high</th>\n",
              "      <th>low</th>\n",
              "      <th>open</th>\n",
              "      <th>volume</th>\n",
              "    </tr>\n",
              "  </thead>\n",
              "  <tbody>\n",
              "    <tr>\n",
              "      <th>0</th>\n",
              "      <td>108.37</td>\n",
              "      <td>108.37</td>\n",
              "      <td>107.16</td>\n",
              "      <td>107.52</td>\n",
              "      <td>28037220</td>\n",
              "    </tr>\n",
              "    <tr>\n",
              "      <th>1</th>\n",
              "      <td>108.81</td>\n",
              "      <td>108.94</td>\n",
              "      <td>108.01</td>\n",
              "      <td>108.23</td>\n",
              "      <td>26315204</td>\n",
              "    </tr>\n",
              "    <tr>\n",
              "      <th>2</th>\n",
              "      <td>108.00</td>\n",
              "      <td>108.90</td>\n",
              "      <td>107.76</td>\n",
              "      <td>108.71</td>\n",
              "      <td>24008505</td>\n",
              "    </tr>\n",
              "    <tr>\n",
              "      <th>3</th>\n",
              "      <td>107.93</td>\n",
              "      <td>108.93</td>\n",
              "      <td>107.85</td>\n",
              "      <td>108.52</td>\n",
              "      <td>27484506</td>\n",
              "    </tr>\n",
              "    <tr>\n",
              "      <th>4</th>\n",
              "      <td>108.18</td>\n",
              "      <td>108.44</td>\n",
              "      <td>107.78</td>\n",
              "      <td>107.78</td>\n",
              "      <td>18660434</td>\n",
              "    </tr>\n",
              "  </tbody>\n",
              "</table>\n",
              "</div>"
            ],
            "text/plain": [
              "    close    high     low    open    volume\n",
              "0  108.37  108.37  107.16  107.52  28037220\n",
              "1  108.81  108.94  108.01  108.23  26315204\n",
              "2  108.00  108.90  107.76  108.71  24008505\n",
              "3  107.93  108.93  107.85  108.52  27484506\n",
              "4  108.18  108.44  107.78  107.78  18660434"
            ]
          },
          "metadata": {
            "tags": []
          },
          "execution_count": 66
        }
      ]
    },
    {
      "cell_type": "code",
      "metadata": {
        "colab": {
          "base_uri": "https://localhost:8080/"
        },
        "id": "aBUeyy0DIEoW",
        "outputId": "d7119f97-ea4a-47c0-da3b-4b917f5c3f37"
      },
      "source": [
        "scaler = MinMaxScaler()\n",
        "data_training = scaler.fit_transform(data_training)\n",
        "data_training"
      ],
      "execution_count": 67,
      "outputs": [
        {
          "output_type": "execute_result",
          "data": {
            "text/plain": [
              "array([[0.0235951 , 0.01192995, 0.02115604, 0.02195672, 0.16513627],\n",
              "       [0.02557637, 0.01449602, 0.02503998, 0.0251578 , 0.14808293],\n",
              "       [0.02192903, 0.01431594, 0.02389765, 0.02732191, 0.12523942],\n",
              "       ...,\n",
              "       [0.98306916, 0.98608923, 0.9888965 , 0.99580703, 0.18166951],\n",
              "       [1.        , 0.98816009, 0.99488234, 0.9915239 , 0.14849076],\n",
              "       [0.97667507, 0.97996669, 0.98455563, 0.99062218, 0.17884013]])"
            ]
          },
          "metadata": {
            "tags": []
          },
          "execution_count": 67
        }
      ]
    },
    {
      "cell_type": "code",
      "metadata": {
        "id": "9MlWd4PVJUBj"
      },
      "source": [
        "X_train = []\n",
        "y_train = []\n",
        "\n",
        "for i in range(60, data_training.shape[0]):\n",
        "    X_train.append(data_training[i-60:i])\n",
        "    y_train.append(data_training[i, 0])\n",
        "    \n",
        "X_train, y_train = np.array(X_train), np.array(y_train)"
      ],
      "execution_count": 68,
      "outputs": []
    },
    {
      "cell_type": "code",
      "metadata": {
        "colab": {
          "base_uri": "https://localhost:8080/"
        },
        "id": "Smj1cZaNJZTj",
        "outputId": "ac5f862e-e995-4ecd-b2d5-8c1d601c2fdc"
      },
      "source": [
        "X_train.shape"
      ],
      "execution_count": 69,
      "outputs": [
        {
          "output_type": "execute_result",
          "data": {
            "text/plain": [
              "(822, 60, 5)"
            ]
          },
          "metadata": {
            "tags": []
          },
          "execution_count": 69
        }
      ]
    },
    {
      "cell_type": "markdown",
      "metadata": {
        "id": "QVbuM7XmJeTm"
      },
      "source": [
        "BUILDING LSTM"
      ]
    },
    {
      "cell_type": "code",
      "metadata": {
        "id": "yHFZsxw-JieN"
      },
      "source": [
        "from tensorflow.keras import Sequential\n",
        "from tensorflow.keras.layers import Dense, LSTM, Dropout\n",
        "from tensorflow import keras\n",
        "from tensorflow.keras import layers"
      ],
      "execution_count": 70,
      "outputs": []
    },
    {
      "cell_type": "code",
      "metadata": {
        "id": "segfCZDxJmMu"
      },
      "source": [
        "regressor = Sequential()\n",
        "\n",
        "regressor.add(LSTM(units = 60, activation = 'relu', return_sequences = True, input_shape = (X_train.shape[1], 5)))\n",
        "regressor.add(Dropout(0.2))\n",
        "\n",
        "regressor.add(LSTM(units = 60, activation = 'relu', return_sequences = True))\n",
        "regressor.add(Dropout(0.2))\n",
        "\n",
        "regressor.add(LSTM(units = 80, activation = 'relu', return_sequences = True))\n",
        "regressor.add(Dropout(0.2))\n",
        "\n",
        "regressor.add(LSTM(units = 120, activation = 'relu'))\n",
        "regressor.add(Dropout(0.2))\n",
        "\n",
        "regressor.add(Dense(units = 1))"
      ],
      "execution_count": 73,
      "outputs": []
    },
    {
      "cell_type": "code",
      "metadata": {
        "colab": {
          "base_uri": "https://localhost:8080/"
        },
        "id": "wqyQ837eJqWt",
        "outputId": "770c2559-005f-4666-e4c7-0e457f1e0289"
      },
      "source": [
        "regressor.summary()"
      ],
      "execution_count": 74,
      "outputs": [
        {
          "output_type": "stream",
          "text": [
            "Model: \"sequential_3\"\n",
            "_________________________________________________________________\n",
            "Layer (type)                 Output Shape              Param #   \n",
            "=================================================================\n",
            "lstm_12 (LSTM)               (None, 60, 60)            15840     \n",
            "_________________________________________________________________\n",
            "dropout_12 (Dropout)         (None, 60, 60)            0         \n",
            "_________________________________________________________________\n",
            "lstm_13 (LSTM)               (None, 60, 60)            29040     \n",
            "_________________________________________________________________\n",
            "dropout_13 (Dropout)         (None, 60, 60)            0         \n",
            "_________________________________________________________________\n",
            "lstm_14 (LSTM)               (None, 60, 80)            45120     \n",
            "_________________________________________________________________\n",
            "dropout_14 (Dropout)         (None, 60, 80)            0         \n",
            "_________________________________________________________________\n",
            "lstm_15 (LSTM)               (None, 120)               96480     \n",
            "_________________________________________________________________\n",
            "dropout_15 (Dropout)         (None, 120)               0         \n",
            "_________________________________________________________________\n",
            "dense_3 (Dense)              (None, 1)                 121       \n",
            "=================================================================\n",
            "Total params: 186,601\n",
            "Trainable params: 186,601\n",
            "Non-trainable params: 0\n",
            "_________________________________________________________________\n"
          ],
          "name": "stdout"
        }
      ]
    },
    {
      "cell_type": "code",
      "metadata": {
        "colab": {
          "base_uri": "https://localhost:8080/"
        },
        "id": "rz5ue6UUJxIB",
        "outputId": "72e7f07b-9c7d-48c8-ead4-354ff23412a1"
      },
      "source": [
        "regressor.compile(optimizer='adam', loss = 'mean_squared_error')\n",
        "regressor.fit(X_train, y_train, epochs=10,batch_size=32)"
      ],
      "execution_count": 75,
      "outputs": [
        {
          "output_type": "stream",
          "text": [
            "Epoch 1/10\n",
            "26/26 [==============================] - 9s 169ms/step - loss: 0.0578\n",
            "Epoch 2/10\n",
            "26/26 [==============================] - 4s 165ms/step - loss: 0.0076\n",
            "Epoch 3/10\n",
            "26/26 [==============================] - 4s 166ms/step - loss: 0.0043\n",
            "Epoch 4/10\n",
            "26/26 [==============================] - 4s 166ms/step - loss: 0.0047\n",
            "Epoch 5/10\n",
            "26/26 [==============================] - 4s 167ms/step - loss: 0.0040\n",
            "Epoch 6/10\n",
            "26/26 [==============================] - 4s 166ms/step - loss: 0.0032\n",
            "Epoch 7/10\n",
            "26/26 [==============================] - 4s 165ms/step - loss: 0.0030\n",
            "Epoch 8/10\n",
            "26/26 [==============================] - 4s 168ms/step - loss: 0.0031\n",
            "Epoch 9/10\n",
            "26/26 [==============================] - 4s 163ms/step - loss: 0.0031\n",
            "Epoch 10/10\n",
            "26/26 [==============================] - 4s 166ms/step - loss: 0.0036\n"
          ],
          "name": "stdout"
        },
        {
          "output_type": "execute_result",
          "data": {
            "text/plain": [
              "<tensorflow.python.keras.callbacks.History at 0x7f052f0cd150>"
            ]
          },
          "metadata": {
            "tags": []
          },
          "execution_count": 75
        }
      ]
    },
    {
      "cell_type": "markdown",
      "metadata": {
        "id": "57B8Jpg0Wm3c"
      },
      "source": [
        "PREPARE TEST DATA SET"
      ]
    },
    {
      "cell_type": "code",
      "metadata": {
        "colab": {
          "base_uri": "https://localhost:8080/",
          "height": 203
        },
        "id": "QKX0vPFOWqT_",
        "outputId": "a1513ffb-388d-4c54-b24e-4e2f90a5cdea"
      },
      "source": [
        "data_test.head()"
      ],
      "execution_count": 76,
      "outputs": [
        {
          "output_type": "execute_result",
          "data": {
            "text/html": [
              "<div>\n",
              "<style scoped>\n",
              "    .dataframe tbody tr th:only-of-type {\n",
              "        vertical-align: middle;\n",
              "    }\n",
              "\n",
              "    .dataframe tbody tr th {\n",
              "        vertical-align: top;\n",
              "    }\n",
              "\n",
              "    .dataframe thead th {\n",
              "        text-align: right;\n",
              "    }\n",
              "</style>\n",
              "<table border=\"1\" class=\"dataframe\">\n",
              "  <thead>\n",
              "    <tr style=\"text-align: right;\">\n",
              "      <th></th>\n",
              "      <th>date</th>\n",
              "      <th>close</th>\n",
              "      <th>high</th>\n",
              "      <th>low</th>\n",
              "      <th>open</th>\n",
              "      <th>volume</th>\n",
              "      <th>adjClose</th>\n",
              "    </tr>\n",
              "  </thead>\n",
              "  <tbody>\n",
              "    <tr>\n",
              "      <th>882</th>\n",
              "      <td>2020-02-10 00:00:00+00:00</td>\n",
              "      <td>321.55</td>\n",
              "      <td>321.55</td>\n",
              "      <td>313.85</td>\n",
              "      <td>314.18</td>\n",
              "      <td>27337215</td>\n",
              "      <td>79.635753</td>\n",
              "    </tr>\n",
              "    <tr>\n",
              "      <th>883</th>\n",
              "      <td>2020-02-11 00:00:00+00:00</td>\n",
              "      <td>319.61</td>\n",
              "      <td>323.90</td>\n",
              "      <td>318.71</td>\n",
              "      <td>323.60</td>\n",
              "      <td>23580780</td>\n",
              "      <td>79.155288</td>\n",
              "    </tr>\n",
              "    <tr>\n",
              "      <th>884</th>\n",
              "      <td>2020-02-12 00:00:00+00:00</td>\n",
              "      <td>327.20</td>\n",
              "      <td>327.22</td>\n",
              "      <td>321.47</td>\n",
              "      <td>321.47</td>\n",
              "      <td>28432573</td>\n",
              "      <td>81.035044</td>\n",
              "    </tr>\n",
              "    <tr>\n",
              "      <th>885</th>\n",
              "      <td>2020-02-13 00:00:00+00:00</td>\n",
              "      <td>324.87</td>\n",
              "      <td>326.22</td>\n",
              "      <td>323.35</td>\n",
              "      <td>324.19</td>\n",
              "      <td>23686892</td>\n",
              "      <td>80.457991</td>\n",
              "    </tr>\n",
              "    <tr>\n",
              "      <th>886</th>\n",
              "      <td>2020-02-14 00:00:00+00:00</td>\n",
              "      <td>324.95</td>\n",
              "      <td>325.98</td>\n",
              "      <td>322.85</td>\n",
              "      <td>324.74</td>\n",
              "      <td>20028447</td>\n",
              "      <td>80.477804</td>\n",
              "    </tr>\n",
              "  </tbody>\n",
              "</table>\n",
              "</div>"
            ],
            "text/plain": [
              "                          date   close    high  ...    open    volume   adjClose\n",
              "882  2020-02-10 00:00:00+00:00  321.55  321.55  ...  314.18  27337215  79.635753\n",
              "883  2020-02-11 00:00:00+00:00  319.61  323.90  ...  323.60  23580780  79.155288\n",
              "884  2020-02-12 00:00:00+00:00  327.20  327.22  ...  321.47  28432573  81.035044\n",
              "885  2020-02-13 00:00:00+00:00  324.87  326.22  ...  324.19  23686892  80.457991\n",
              "886  2020-02-14 00:00:00+00:00  324.95  325.98  ...  324.74  20028447  80.477804\n",
              "\n",
              "[5 rows x 7 columns]"
            ]
          },
          "metadata": {
            "tags": []
          },
          "execution_count": 76
        }
      ]
    },
    {
      "cell_type": "code",
      "metadata": {
        "id": "qRJtzLldYG-j"
      },
      "source": [
        "past_60_days = data_train.tail(60)"
      ],
      "execution_count": 77,
      "outputs": []
    },
    {
      "cell_type": "code",
      "metadata": {
        "colab": {
          "base_uri": "https://localhost:8080/",
          "height": 203
        },
        "id": "ZY2IO1vYZ9AX",
        "outputId": "98f94b53-c8d0-455a-def8-c2a49692c3d7"
      },
      "source": [
        "df = past_60_days.append(data_test, ignore_index = True)\n",
        "df = df.drop(['date', 'adjClose'], axis = 1)\n",
        "df.head()"
      ],
      "execution_count": 79,
      "outputs": [
        {
          "output_type": "execute_result",
          "data": {
            "text/html": [
              "<div>\n",
              "<style scoped>\n",
              "    .dataframe tbody tr th:only-of-type {\n",
              "        vertical-align: middle;\n",
              "    }\n",
              "\n",
              "    .dataframe tbody tr th {\n",
              "        vertical-align: top;\n",
              "    }\n",
              "\n",
              "    .dataframe thead th {\n",
              "        text-align: right;\n",
              "    }\n",
              "</style>\n",
              "<table border=\"1\" class=\"dataframe\">\n",
              "  <thead>\n",
              "    <tr style=\"text-align: right;\">\n",
              "      <th></th>\n",
              "      <th>close</th>\n",
              "      <th>high</th>\n",
              "      <th>low</th>\n",
              "      <th>open</th>\n",
              "      <th>volume</th>\n",
              "    </tr>\n",
              "  </thead>\n",
              "  <tbody>\n",
              "    <tr>\n",
              "      <th>0</th>\n",
              "      <td>261.96</td>\n",
              "      <td>262.79</td>\n",
              "      <td>260.92</td>\n",
              "      <td>261.55</td>\n",
              "      <td>21847226</td>\n",
              "    </tr>\n",
              "    <tr>\n",
              "      <th>1</th>\n",
              "      <td>264.47</td>\n",
              "      <td>264.78</td>\n",
              "      <td>261.07</td>\n",
              "      <td>261.13</td>\n",
              "      <td>25817593</td>\n",
              "    </tr>\n",
              "    <tr>\n",
              "      <th>2</th>\n",
              "      <td>262.64</td>\n",
              "      <td>264.88</td>\n",
              "      <td>262.10</td>\n",
              "      <td>263.75</td>\n",
              "      <td>22395556</td>\n",
              "    </tr>\n",
              "    <tr>\n",
              "      <th>3</th>\n",
              "      <td>265.76</td>\n",
              "      <td>265.78</td>\n",
              "      <td>263.01</td>\n",
              "      <td>263.68</td>\n",
              "      <td>25093666</td>\n",
              "    </tr>\n",
              "    <tr>\n",
              "      <th>4</th>\n",
              "      <td>267.10</td>\n",
              "      <td>267.43</td>\n",
              "      <td>264.23</td>\n",
              "      <td>265.80</td>\n",
              "      <td>21700897</td>\n",
              "    </tr>\n",
              "  </tbody>\n",
              "</table>\n",
              "</div>"
            ],
            "text/plain": [
              "    close    high     low    open    volume\n",
              "0  261.96  262.79  260.92  261.55  21847226\n",
              "1  264.47  264.78  261.07  261.13  25817593\n",
              "2  262.64  264.88  262.10  263.75  22395556\n",
              "3  265.76  265.78  263.01  263.68  25093666\n",
              "4  267.10  267.43  264.23  265.80  21700897"
            ]
          },
          "metadata": {
            "tags": []
          },
          "execution_count": 79
        }
      ]
    },
    {
      "cell_type": "code",
      "metadata": {
        "colab": {
          "base_uri": "https://localhost:8080/"
        },
        "id": "t5fYkUWZaG0-",
        "outputId": "2d14c2c1-c448-43ea-c50c-3d6573074acf"
      },
      "source": [
        "inputs = scaler.transform(df)\n",
        "inputs"
      ],
      "execution_count": 80,
      "outputs": [
        {
          "output_type": "execute_result",
          "data": {
            "text/plain": [
              "array([[0.71519272, 0.70710845, 0.72373772, 0.71641118, 0.10383601],\n",
              "       [0.72649496, 0.71606717, 0.72442312, 0.71451758, 0.14315503],\n",
              "       [0.71825468, 0.71651735, 0.72912954, 0.72633003, 0.10926619],\n",
              "       ...,\n",
              "       [0.19087716, 0.18561203, 0.19520219, 0.19706943, 0.51018813],\n",
              "       [0.19916246, 0.19054157, 0.19488234, 0.19458972, 0.52906998],\n",
              "       [0.19731628, 0.1893936 , 0.19990861, 0.20117223, 0.44570208]])"
            ]
          },
          "metadata": {
            "tags": []
          },
          "execution_count": 80
        }
      ]
    },
    {
      "cell_type": "code",
      "metadata": {
        "colab": {
          "base_uri": "https://localhost:8080/"
        },
        "id": "E987tmKsaM-e",
        "outputId": "382b1873-1c1d-4154-de85-6af30804030c"
      },
      "source": [
        "X_test = []\n",
        "y_test = []\n",
        "\n",
        "for i in range(60, inputs.shape[0]):\n",
        "    X_test.append(inputs[i-60:i])\n",
        "    y_test.append(inputs[i, 0])\n",
        "\n",
        "X_test, y_test = np.array(X_test), np.array(y_test)\n",
        "X_test.shape, y_test.shape"
      ],
      "execution_count": 81,
      "outputs": [
        {
          "output_type": "execute_result",
          "data": {
            "text/plain": [
              "((375, 60, 5), (375,))"
            ]
          },
          "metadata": {
            "tags": []
          },
          "execution_count": 81
        }
      ]
    },
    {
      "cell_type": "code",
      "metadata": {
        "id": "PoVemHCAaQbF"
      },
      "source": [
        "y_pred = regressor.predict(X_test)"
      ],
      "execution_count": 82,
      "outputs": []
    },
    {
      "cell_type": "code",
      "metadata": {
        "colab": {
          "base_uri": "https://localhost:8080/"
        },
        "id": "scXECjnJaShq",
        "outputId": "b95daa05-f88f-4985-d3f3-eaa82e7dc806"
      },
      "source": [
        "scaler.scale_"
      ],
      "execution_count": 83,
      "outputs": [
        {
          "output_type": "execute_result",
          "data": {
            "text/plain": [
              "array([4.50288184e-03, 4.50186828e-03, 4.56933973e-03, 4.50856628e-03,\n",
              "       9.90312045e-09])"
            ]
          },
          "metadata": {
            "tags": []
          },
          "execution_count": 83
        }
      ]
    },
    {
      "cell_type": "code",
      "metadata": {
        "colab": {
          "base_uri": "https://localhost:8080/"
        },
        "id": "sxXqwIFVaWVR",
        "outputId": "17c0a565-ae0d-432f-85de-fb2efc57c005"
      },
      "source": [
        "scale = 1/8.18605127e-04\n",
        "scale"
      ],
      "execution_count": 84,
      "outputs": [
        {
          "output_type": "execute_result",
          "data": {
            "text/plain": [
              "1221.5901990069017"
            ]
          },
          "metadata": {
            "tags": []
          },
          "execution_count": 84
        }
      ]
    },
    {
      "cell_type": "code",
      "metadata": {
        "id": "uNBgxWJDaZsF"
      },
      "source": [
        "y_pred = y_pred*scale\n",
        "y_test = y_test*scale"
      ],
      "execution_count": 85,
      "outputs": []
    },
    {
      "cell_type": "markdown",
      "metadata": {
        "id": "qtog-Zo5aedw"
      },
      "source": [
        "VISUALIZATION"
      ]
    },
    {
      "cell_type": "code",
      "metadata": {
        "colab": {
          "base_uri": "https://localhost:8080/",
          "height": 350
        },
        "id": "44CpTB0zag5F",
        "outputId": "ebe40717-b4ce-4348-b072-cf6bd355b9b1"
      },
      "source": [
        "# Visualising the results\n",
        "plt.figure(figsize=(14,5))\n",
        "plt.plot(y_test, color = 'red', label = 'Real Apple Stock Price')\n",
        "plt.plot(y_pred, color = 'blue', label = 'Predicted Apple Stock Price')\n",
        "plt.title('Apple Stock Price Prediction')\n",
        "plt.xlabel('Time')\n",
        "plt.ylabel('Apple Stock Price')\n",
        "plt.legend()\n",
        "plt.show()"
      ],
      "execution_count": 86,
      "outputs": [
        {
          "output_type": "display_data",
          "data": {
            "image/png": "[encoded data removed]",
            "text/plain": [
              "<Figure size 1008x360 with 1 Axes>"
            ]
          },
          "metadata": {
            "tags": [],
            "needs_background": "light"
          }
        }
      ]
    }
  ]
}